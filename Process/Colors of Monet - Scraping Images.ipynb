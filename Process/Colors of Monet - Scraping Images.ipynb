{
 "cells": [
  {
   "cell_type": "markdown",
   "metadata": {},
   "source": [
    "## Obtaining Images & Data"
   ]
  },
  {
   "cell_type": "markdown",
   "metadata": {},
   "source": [
    "Source: the Claude Monet Gallery http://www.cmonetgallery.com/monet-paintings-list.aspx"
   ]
  },
  {
   "cell_type": "code",
   "execution_count": 69,
   "metadata": {
    "collapsed": false,
    "scrolled": true
   },
   "outputs": [],
   "source": [
    "import pandas as pd\n",
    "\n",
    "# Web scraping\n",
    "import requests\n",
    "import xmltodict\n",
    "import re # Regular Expressions\n",
    "from bs4 import BeautifulSoup\n",
    "import urllib\n",
    "\n",
    "url = \"http://www.the-athenaeum.org/art/list.php?s=tu&m=a&aid=13&p=2\"\n",
    "\n",
    "page = requests.get(url)\n",
    "\n",
    "soup = BeautifulSoup(page.text)\n",
    "data = []\n",
    "\n",
    "for page in range(1,14):\n",
    "    # Get page from site\n",
    "    url = \"http://www.the-athenaeum.org/art/list.php?s=tu&m=a&aid=13&p=\" + str(page)\n",
    "    page = requests.get(url)\n",
    "    soup = BeautifulSoup(page.text)\n",
    "    \n",
    "    # Find all the rows in the data table\n",
    "    art_table_rows = soup.findAll('tr', {'class': re.compile(\"r1|r2\")})\n",
    "\n",
    "    for row in art_table_rows:\n",
    "\n",
    "        # Save description text for good luck\n",
    "        desc = row.findAll('td')[1].get_text()\n",
    "\n",
    "        # Artwork title\n",
    "        title = row.find('div', {'class': 'list_title'}).get_text()\n",
    "\n",
    "        # Year(s) created (may be a range, will deal with that later)\n",
    "        p = re.compile('\\((\\d*|\\d*-\\d*)\\)')\n",
    "        m = p.search(desc)\n",
    "        if (m):\n",
    "            year = m.groups()[0]\n",
    "        else:\n",
    "            year = []\n",
    "\n",
    "        # Media art was created in (if listed)\n",
    "        p = re.compile('(pastel|oil|tempera)')\n",
    "        m = p.search(desc)\n",
    "        if(m): \n",
    "            medium = m.groups()[0]\n",
    "        else:\n",
    "            medium = []\n",
    "\n",
    "        # Save image files\n",
    "        img_link = row.find('img', {'vspace': '4'}).get('src')\n",
    "        if (img_link):\n",
    "            file_id_thumb = int(float(img_link.replace('display_image.php?id=','')))\n",
    "            file_id_full = file_id_thumb + 1\n",
    "            out = urllib.urlretrieve(image_base_url + str(file_id_thumb), 'images/' + str(file_id_thumb) +'.jpg')\n",
    "            out2 = urllib.urlretrieve(image_base_url + str(file_id_full), 'images/' + str(file_id_full) +'.jpg')\n",
    "\n",
    "        data.append({'title': title, 'desc': desc, 'year': year, 'medium': medium, \\\n",
    "                    'file_id_thumb': file_id_thumb, 'file_id_full': file_id_full})\n",
    "\n",
    "data = pd.DataFrame(data)\n"
   ]
  },
  {
   "cell_type": "code",
   "execution_count": 70,
   "metadata": {
    "collapsed": false
   },
   "outputs": [],
   "source": [
    "data.to_csv(\"monet_data.csv\", index=False, encoding='utf-8')"
   ]
  }
 ],
 "metadata": {
  "kernelspec": {
   "display_name": "Python 2",
   "language": "python",
   "name": "python2"
  },
  "language_info": {
   "codemirror_mode": {
    "name": "ipython",
    "version": 2
   },
   "file_extension": ".py",
   "mimetype": "text/x-python",
   "name": "python",
   "nbconvert_exporter": "python",
   "pygments_lexer": "ipython2",
   "version": "2.7.10"
  }
 },
 "nbformat": 4,
 "nbformat_minor": 0
}
